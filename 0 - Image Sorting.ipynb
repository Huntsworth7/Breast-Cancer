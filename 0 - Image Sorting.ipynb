{
 "cells": [
  {
   "cell_type": "markdown",
   "metadata": {},
   "source": [
    "# Image Sorting"
   ]
  },
  {
   "cell_type": "markdown",
   "metadata": {},
   "source": [
    "The dataset from kaggle is sorted as follows: each patient has their own folder of images and subfolders that denote whether or not the image contains cancer labeled 0 and 1. While this is a nice way to organize things, I would like to utilize the split-folders package which requires that all images be split into just 0 and 1 folders for our target. \n",
    "\n",
    "You can read more about split-folders <a href=\"https://pypi.org/project/split-folders/\">here.</a>\n",
    "\n",
    "Note: I have copied the images in 2 separate folders."
   ]
  },
  {
   "cell_type": "code",
   "execution_count": 1,
   "metadata": {},
   "outputs": [],
   "source": [
    "import os \n",
    "import shutil\n",
    "from glob import glob\n",
    "import fnmatch\n",
    "import split_folders\n",
    "import random"
   ]
  },
  {
   "cell_type": "markdown",
   "metadata": {},
   "source": [
    "We need to sort all of our images into testing, training, and validation sets.\n",
    "\n",
    "First let's use glob to grab all of our images."
   ]
  },
  {
   "cell_type": "code",
   "execution_count": 2,
   "metadata": {},
   "outputs": [
    {
     "data": {
      "text/plain": [
       "277524"
      ]
     },
     "execution_count": 2,
     "metadata": {},
     "output_type": "execute_result"
    }
   ],
   "source": [
    "images = glob('data/cancer/***/**/*.png', recursive=True)\n",
    "len(images)"
   ]
  },
  {
   "cell_type": "markdown",
   "metadata": {},
   "source": [
    "Now we need to sort our data into positive and negative for our target.\n",
    "\n",
    "All images denote their class at the end of their filename so this will be an easy task."
   ]
  },
  {
   "cell_type": "code",
   "execution_count": 3,
   "metadata": {},
   "outputs": [
    {
     "name": "stdout",
     "output_type": "stream",
     "text": [
      "198738\n",
      "78786\n",
      "277524\n"
     ]
    }
   ],
   "source": [
    "#create filters to sort our images between positive and negative for the target. \n",
    "filtzero = '*class0.png'\n",
    "filtone = '*class1.png'\n",
    "#filename match will go through our list of images and filter\n",
    "zero = fnmatch.filter(images, filtzero)\n",
    "one = fnmatch.filter(images, filtone)\n",
    "#confirm we've captured everything\n",
    "print(len(zero))\n",
    "print(len(one))\n",
    "print(len(zero)+len(one))"
   ]
  },
  {
   "cell_type": "markdown",
   "metadata": {},
   "source": [
    "Now we will move the images to positive and negative folders so that we can use the split-folders package to further sort into training, testing and validation sets.\n",
    "\n",
    "We created a new folder prior to this step called \"sorted\" that contains subfolders named \"0\" and \"1\"."
   ]
  },
  {
   "cell_type": "code",
   "execution_count": 4,
   "metadata": {},
   "outputs": [],
   "source": [
    "#move the zeroes\n",
    "dest0 = 'data/sorted/0/'\n",
    "\n",
    "#shutil goes through our list of zero images and moves them to our 0 folder. \n",
    "for f in zero:\n",
    "    shutil.move(f, dest0)"
   ]
  },
  {
   "cell_type": "code",
   "execution_count": 6,
   "metadata": {},
   "outputs": [],
   "source": [
    "#move the ones\n",
    "dest1 = 'data/sorted/1/'\n",
    "\n",
    "for f in one:\n",
    "    shutil.move(f, dest1)"
   ]
  },
  {
   "cell_type": "markdown",
   "metadata": {},
   "source": [
    "Now that the images have been sorted, we use split folders to sort our images into training, testing, and validation sets. We will use 70% training, 15% testing, and 15% validation. "
   ]
  },
  {
   "cell_type": "code",
   "execution_count": 7,
   "metadata": {},
   "outputs": [
    {
     "name": "stderr",
     "output_type": "stream",
     "text": [
      "Copying files: 277524 files [08:58, 515.24 files/s]\n"
     ]
    }
   ],
   "source": [
    "split_folders.ratio('data/sorted', output='data/split', ratio=(.7, .15, .15))"
   ]
  },
  {
   "cell_type": "markdown",
   "metadata": {},
   "source": [
    "All files are now moved and ready for preprocessing. "
   ]
  },
  {
   "cell_type": "code",
   "execution_count": null,
   "metadata": {},
   "outputs": [],
   "source": []
  }
 ],
 "metadata": {
  "kernelspec": {
   "display_name": "Python 3",
   "language": "python",
   "name": "python3"
  },
  "language_info": {
   "codemirror_mode": {
    "name": "ipython",
    "version": 3
   },
   "file_extension": ".py",
   "mimetype": "text/x-python",
   "name": "python",
   "nbconvert_exporter": "python",
   "pygments_lexer": "ipython3",
   "version": "3.7.3"
  }
 },
 "nbformat": 4,
 "nbformat_minor": 4
}
